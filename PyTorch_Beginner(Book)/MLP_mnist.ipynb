{
 "cells": [
  {
   "cell_type": "code",
   "execution_count": 1,
   "metadata": {},
   "outputs": [],
   "source": [
    "import torch\n",
    "from torch.autograd import Variable\n",
    "import torch.nn as nn\n",
    "import torch.nn.functional as F\n",
    "import torch.optim as optim\n",
    "from torch.utils.data import DataLoader, TensorDataset \n",
    "from sklearn.datasets import load_digits \n",
    "from sklearn import datasets, model_selection \n",
    "import pandas as pd\n",
    "from matplotlib import pyplot as plt\n",
    "from matplotlib import cm "
   ]
  },
  {
   "cell_type": "code",
   "execution_count": 2,
   "metadata": {},
   "outputs": [
    {
     "name": "stderr",
     "output_type": "stream",
     "text": [
      "c:\\users\\jinsoo\\appdata\\local\\programs\\python\\python35\\lib\\site-packages\\sklearn\\utils\\deprecation.py:77: DeprecationWarning: Function fetch_mldata is deprecated; fetch_mldata was deprecated in version 0.20 and will be removed in version 0.22\n",
      "  warnings.warn(msg, category=DeprecationWarning)\n",
      "c:\\users\\jinsoo\\appdata\\local\\programs\\python\\python35\\lib\\site-packages\\sklearn\\utils\\deprecation.py:77: DeprecationWarning: Function mldata_filename is deprecated; mldata_filename was deprecated in version 0.20 and will be removed in version 0.22\n",
      "  warnings.warn(msg, category=DeprecationWarning)\n"
     ]
    },
    {
     "data": {
      "text/plain": [
       "{'COL_NAMES': ['label', 'data'],\n",
       " 'DESCR': 'mldata.org dataset: mnist-original',\n",
       " 'data': array([[0, 0, 0, ..., 0, 0, 0],\n",
       "        [0, 0, 0, ..., 0, 0, 0],\n",
       "        [0, 0, 0, ..., 0, 0, 0],\n",
       "        ...,\n",
       "        [0, 0, 0, ..., 0, 0, 0],\n",
       "        [0, 0, 0, ..., 0, 0, 0],\n",
       "        [0, 0, 0, ..., 0, 0, 0]], dtype=uint8),\n",
       " 'target': array([0., 0., 0., ..., 9., 9., 9.])}"
      ]
     },
     "execution_count": 2,
     "metadata": {},
     "output_type": "execute_result"
    }
   ],
   "source": [
    "mnist = datasets.fetch_mldata('MNIST original', data_home='../data/mnist/')\n",
    "mnist"
   ]
  },
  {
   "cell_type": "code",
   "execution_count": 3,
   "metadata": {},
   "outputs": [
    {
     "data": {
      "image/png": "[encoded data removed]",
      "text/plain": [
       "<Figure size 432x288 with 1 Axes>"
      ]
     },
     "metadata": {
      "needs_background": "light"
     },
     "output_type": "display_data"
    },
    {
     "data": {
      "text/plain": [
       "784"
      ]
     },
     "execution_count": 3,
     "metadata": {},
     "output_type": "execute_result"
    }
   ],
   "source": [
    "mnist_data = mnist.data / 255\n",
    "pd.DataFrame(mnist_data)\n",
    "plt.imshow(mnist_data[0].reshape(28,28), cmap=cm.gray_r)\n",
    "plt.show()\n",
    "len(mnist_data[0])"
   ]
  },
  {
   "cell_type": "code",
   "execution_count": 4,
   "metadata": {},
   "outputs": [
    {
     "data": {
      "text/plain": [
       "array([0., 0., 0., ..., 9., 9., 9.])"
      ]
     },
     "execution_count": 4,
     "metadata": {},
     "output_type": "execute_result"
    }
   ],
   "source": [
    "mnist_label = mnist.target\n",
    "mnist_label "
   ]
  },
  {
   "cell_type": "code",
   "execution_count": 5,
   "metadata": {},
   "outputs": [],
   "source": [
    "train_size = 5000\n",
    "test_size = 500 \n",
    "train_X, test_X, train_Y, test_Y = model_selection.train_test_split(mnist_data, mnist_label, train_size=train_size, test_size=test_size)"
   ]
  },
  {
   "cell_type": "code",
   "execution_count": 6,
   "metadata": {},
   "outputs": [
    {
     "data": {
      "text/plain": [
       "(5000, 500, 5000, 500)"
      ]
     },
     "execution_count": 6,
     "metadata": {},
     "output_type": "execute_result"
    }
   ],
   "source": [
    "len(train_X), len(test_X), len(train_Y), len(test_Y)"
   ]
  },
  {
   "cell_type": "code",
   "execution_count": 7,
   "metadata": {},
   "outputs": [],
   "source": [
    "train_X = torch.from_numpy(train_X).float()\n",
    "train_Y = torch.from_numpy(train_Y).long()\n",
    "test_X = torch.from_numpy(test_X).float()\n",
    "test_Y = torch.from_numpy(test_Y).long()"
   ]
  },
  {
   "cell_type": "code",
   "execution_count": 8,
   "metadata": {
    "scrolled": true
   },
   "outputs": [
    {
     "data": {
      "text/plain": [
       "(tensor([[0., 0., 0.,  ..., 0., 0., 0.],\n",
       "         [0., 0., 0.,  ..., 0., 0., 0.],\n",
       "         [0., 0., 0.,  ..., 0., 0., 0.],\n",
       "         ...,\n",
       "         [0., 0., 0.,  ..., 0., 0., 0.],\n",
       "         [0., 0., 0.,  ..., 0., 0., 0.],\n",
       "         [0., 0., 0.,  ..., 0., 0., 0.]]),\n",
       " tensor([7, 4, 3,  ..., 1, 7, 0]),\n",
       " tensor([[0., 0., 0.,  ..., 0., 0., 0.],\n",
       "         [0., 0., 0.,  ..., 0., 0., 0.],\n",
       "         [0., 0., 0.,  ..., 0., 0., 0.],\n",
       "         ...,\n",
       "         [0., 0., 0.,  ..., 0., 0., 0.],\n",
       "         [0., 0., 0.,  ..., 0., 0., 0.],\n",
       "         [0., 0., 0.,  ..., 0., 0., 0.]]),\n",
       " tensor([2, 1, 6, 4, 9, 2, 2, 3, 5, 9, 1, 6, 3, 0, 0, 4, 3, 7, 3, 8, 1, 9, 7, 6,\n",
       "         5, 9, 6, 6, 8, 3, 0, 7, 0, 7, 2, 3, 2, 0, 2, 5, 9, 9, 8, 0, 8, 1, 7, 7,\n",
       "         9, 6, 2, 6, 9, 5, 7, 3, 3, 4, 9, 2, 9, 9, 7, 9, 2, 4, 6, 3, 7, 3, 0, 8,\n",
       "         7, 4, 0, 2, 5, 2, 2, 3, 2, 9, 5, 9, 0, 9, 8, 5, 1, 5, 4, 6, 4, 1, 2, 7,\n",
       "         6, 0, 1, 0, 5, 1, 6, 4, 8, 8, 4, 0, 6, 5, 0, 0, 6, 0, 8, 2, 3, 3, 1, 8,\n",
       "         9, 8, 4, 4, 0, 2, 3, 8, 1, 5, 2, 8, 5, 5, 0, 7, 8, 8, 7, 7, 7, 1, 4, 7,\n",
       "         0, 0, 9, 1, 5, 0, 6, 1, 4, 2, 5, 0, 7, 1, 2, 7, 2, 9, 9, 1, 4, 4, 8, 7,\n",
       "         3, 3, 2, 2, 2, 6, 0, 1, 7, 9, 3, 9, 9, 2, 2, 0, 2, 3, 0, 0, 7, 3, 8, 1,\n",
       "         1, 4, 5, 1, 5, 2, 1, 0, 6, 3, 2, 8, 6, 5, 9, 7, 9, 2, 8, 5, 5, 7, 3, 3,\n",
       "         5, 7, 0, 2, 2, 1, 0, 3, 7, 6, 5, 9, 1, 6, 8, 4, 4, 9, 6, 9, 0, 2, 1, 9,\n",
       "         7, 1, 8, 2, 0, 1, 1, 4, 1, 3, 4, 1, 2, 3, 1, 1, 2, 0, 2, 7, 2, 9, 4, 2,\n",
       "         9, 1, 0, 8, 7, 0, 4, 2, 1, 1, 2, 5, 1, 8, 7, 0, 8, 6, 3, 3, 5, 2, 1, 0,\n",
       "         8, 2, 2, 1, 1, 5, 3, 8, 4, 6, 9, 9, 8, 9, 5, 0, 2, 3, 2, 6, 2, 2, 2, 4,\n",
       "         9, 7, 9, 8, 9, 6, 9, 7, 4, 3, 3, 3, 4, 2, 6, 9, 0, 5, 9, 2, 4, 2, 2, 2,\n",
       "         2, 9, 3, 2, 4, 4, 4, 8, 4, 1, 2, 9, 5, 0, 9, 0, 7, 4, 2, 1, 6, 6, 0, 5,\n",
       "         6, 7, 3, 6, 6, 9, 7, 7, 0, 4, 1, 1, 2, 8, 7, 8, 9, 3, 2, 1, 9, 4, 5, 9,\n",
       "         6, 5, 5, 1, 3, 4, 7, 9, 1, 0, 2, 8, 2, 7, 3, 3, 3, 1, 0, 7, 8, 6, 6, 7,\n",
       "         8, 4, 7, 3, 2, 9, 9, 8, 6, 1, 7, 1, 8, 6, 5, 5, 8, 0, 1, 7, 3, 6, 8, 3,\n",
       "         3, 6, 4, 9, 4, 6, 0, 7, 1, 3, 8, 0, 4, 2, 0, 7, 6, 8, 9, 8, 3, 7, 3, 0,\n",
       "         4, 4, 3, 4, 2, 8, 0, 3, 7, 1, 2, 0, 5, 5, 8, 2, 8, 6, 5, 6, 7, 8, 4, 2,\n",
       "         9, 1, 7, 0, 7, 5, 9, 3, 1, 9, 1, 3, 0, 4, 3, 6, 0, 8, 1, 2]))"
      ]
     },
     "execution_count": 8,
     "metadata": {},
     "output_type": "execute_result"
    }
   ],
   "source": [
    "train_X, train_Y, test_X, test_Y"
   ]
  },
  {
   "cell_type": "code",
   "execution_count": 9,
   "metadata": {},
   "outputs": [],
   "source": [
    "train = TensorDataset(train_X, train_Y)"
   ]
  },
  {
   "cell_type": "code",
   "execution_count": 10,
   "metadata": {},
   "outputs": [],
   "source": [
    "train_loader = DataLoader(train, batch_size=100, shuffle=True)"
   ]
  },
  {
   "cell_type": "code",
   "execution_count": 11,
   "metadata": {},
   "outputs": [],
   "source": [
    "class Net(nn.Module):\n",
    "    def __init__(self):\n",
    "        super(Net, self).__init__()\n",
    "        self.fc1 = nn.Linear(784,256)\n",
    "        self.fc2 = nn.Linear(256,256)\n",
    "        self.fc3 = nn.Linear(256,256)\n",
    "        self.fc4 = nn.Linear(256,128)\n",
    "        self.fc5 = nn.Linear(128,128)\n",
    "        self.fc6 = nn.Linear(128,10)\n",
    "    \n",
    "    def forward(self, x):\n",
    "        x= F.relu(self.fc1(x))\n",
    "        x= F.relu(self.fc2(x))\n",
    "        x= F.relu(self.fc3(x))\n",
    "        x= F.relu(self.fc4(x))\n",
    "        x= F.relu(self.fc5(x))\n",
    "        x= F.dropout(x, training=self.training)\n",
    "        x= self.fc6(x)\n",
    "        return F.log_softmax(x)        \n"
   ]
  },
  {
   "cell_type": "code",
   "execution_count": 12,
   "metadata": {},
   "outputs": [],
   "source": [
    "model = Net().cuda()"
   ]
  },
  {
   "cell_type": "code",
   "execution_count": 13,
   "metadata": {},
   "outputs": [
    {
     "name": "stderr",
     "output_type": "stream",
     "text": [
      "c:\\users\\jinsoo\\appdata\\local\\programs\\python\\python35\\lib\\site-packages\\ipykernel_launcher.py:19: UserWarning: Implicit dimension choice for log_softmax has been deprecated. Change the call to include dim=X as an argument.\n"
     ]
    },
    {
     "name": "stdout",
     "output_type": "stream",
     "text": [
      "100 34.65004462003708\n",
      "200 3.414127079769969\n",
      "300 0.4749657209031284\n",
      "400 0.22852421621792018\n",
      "500 0.1305157010210678\n",
      "600 0.1052886814577505\n",
      "700 0.1012737910496071\n",
      "800 0.0573591028660303\n",
      "900 0.06339436754933558\n",
      "1000 0.0738760496096802\n"
     ]
    }
   ],
   "source": [
    "criterion = nn.CrossEntropyLoss()\n",
    "optimizer = optim.SGD(model.parameters(), lr=0.01)\n",
    "for epoch in range(1000):\n",
    "    total_loss = 0\n",
    "    for train_x, train_y in train_loader:\n",
    "        train_x, train_y = Variable(train_x.cuda()), Variable(train_y.cuda())\n",
    "        optimizer.zero_grad()\n",
    "        output = model(train_x)\n",
    "        loss = criterion(output, train_y)\n",
    "        loss.backward()\n",
    "        optimizer.step()\n",
    "        total_loss += loss.item()\n",
    "    if (epoch+1) % 100 == 0:\n",
    "        print(epoch+1, total_loss)"
   ]
  },
  {
   "cell_type": "code",
   "execution_count": 14,
   "metadata": {},
   "outputs": [],
   "source": [
    "test_x, test_y = Variable(test_X.cuda()), Variable(test_Y.cuda())"
   ]
  },
  {
   "cell_type": "code",
   "execution_count": 15,
   "metadata": {},
   "outputs": [
    {
     "name": "stderr",
     "output_type": "stream",
     "text": [
      "c:\\users\\jinsoo\\appdata\\local\\programs\\python\\python35\\lib\\site-packages\\ipykernel_launcher.py:19: UserWarning: Implicit dimension choice for log_softmax has been deprecated. Change the call to include dim=X as an argument.\n"
     ]
    }
   ],
   "source": [
    "result = torch.max(model(test_x).cpu().data, 1)[1]"
   ]
  },
  {
   "cell_type": "code",
   "execution_count": 16,
   "metadata": {},
   "outputs": [],
   "source": [
    "accuracy = sum(test_y.cpu().data.numpy() == result.cpu().numpy()) / len(test_y.cpu().data.numpy())"
   ]
  },
  {
   "cell_type": "code",
   "execution_count": 17,
   "metadata": {},
   "outputs": [
    {
     "data": {
      "text/plain": [
       "0.908"
      ]
     },
     "execution_count": 17,
     "metadata": {},
     "output_type": "execute_result"
    }
   ],
   "source": [
    "accuracy"
   ]
  },
  {
   "cell_type": "code",
   "execution_count": null,
   "metadata": {},
   "outputs": [],
   "source": []
  }
 ],
 "metadata": {
  "kernelspec": {
   "display_name": "Python 3",
   "language": "python",
   "name": "python3"
  },
  "language_info": {
   "codemirror_mode": {
    "name": "ipython",
    "version": 3
   },
   "file_extension": ".py",
   "mimetype": "text/x-python",
   "name": "python",
   "nbconvert_exporter": "python",
   "pygments_lexer": "ipython3",
   "version": "3.5.2"
  }
 },
 "nbformat": 4,
 "nbformat_minor": 2
}
